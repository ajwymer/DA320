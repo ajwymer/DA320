{
 "cells": [
  {
   "cell_type": "code",
   "execution_count": 1,
   "metadata": {},
   "outputs": [],
   "source": [
    "#Passkey puller\n",
    "#I did have to modify the file location based on the computer on using: ie laptop vs desktop\n",
    "import json\n",
    "\n",
    "with open('C:\\\\Users\\\\aaron_k2cr2v\\OneDrive\\Documents\\GitHub\\secrets_20230508.json') as f:\n",
    "    data = json.load(f)\n",
    "    secret_key = str(data['mongodb'])\n",
    "\n",
    "#print(f\"My key is \"+len(secret_key)+\" long.\")\n",
    "\n"
   ]
  },
  {
   "cell_type": "code",
   "execution_count": 2,
   "metadata": {},
   "outputs": [
    {
     "name": "stdout",
     "output_type": "stream",
     "text": [
      "Using MongoDB version 6.0.6.\n",
      "This database has the collections ['imdb', 'metacritic', 'View_imdb_2015', 'View_metacritic_2015', 'View_Practical_DB']\n"
     ]
    }
   ],
   "source": [
    "#All borrowed from Profs guides\n",
    "\n",
    "import pymongo\n",
    "import certifi\n",
    "\n",
    "# Once you have retrieved your connection string from a secrets file, use it here\n",
    "mongo_connection_string = data['mongodb']\n",
    "\n",
    "# Connect to the database using known good certificates\n",
    "client = pymongo.MongoClient(mongo_connection_string, tlsCAFile=certifi.where())\n",
    "\n",
    "# Fetch the database named \"DA320\"\n",
    "da320_database = client['DA320']\n",
    "\n",
    "# Within the database we have \"collections\". Think of them as tables in SQL.\n",
    "allCollections = da320_database.list_collection_names()\n",
    "\n",
    "# Here is the list of collections within my database\n",
    "print(f\"Using MongoDB version {client.server_info()['version']}.\")\n",
    "print(f\"This database has the collections {allCollections}\")"
   ]
  },
  {
   "cell_type": "code",
   "execution_count": 3,
   "metadata": {},
   "outputs": [],
   "source": [
    "import pandas as pd\n",
    "\n",
    "# Retrieve all records from a collection - this can be a large amount of data!\n",
    "cursor = da320_database.View_Practical_DB.find()\n",
    "\n",
    "# Convert this information into a Pandas dataframe\n",
    "imdb_view = pd.DataFrame(cursor)\n",
    "\n",
    "# Make sure we've read the information correctly\n",
    "#imdb_view.head()"
   ]
  },
  {
   "attachments": {},
   "cell_type": "markdown",
   "metadata": {},
   "source": [
    "Construct three charts.  These charts may be histograms, line charts, or XY plots.  \n",
    "\n",
    "Using some of the numeric fields (runtime, user rating, votes, budget, opening weekend, gross sales), create one chart each using the following rules.  The following are IDEAS for the rules you could use.  \n",
    "\n",
    "Any three different charts are acceptable:\n",
    "One chart that graphs a single genre of movies over time.\n",
    "One chart that graphs movies released within a single year.\n",
    "One chart that tracks the career of your favorite actor, director, producer, or a company you like."
   ]
  },
  {
   "cell_type": "code",
   "execution_count": 6,
   "metadata": {},
   "outputs": [
    {
     "data": {
      "image/png": "[encoded data removed]",
      "text/plain": [
       "<Figure size 640x480 with 1 Axes>"
      ]
     },
     "metadata": {},
     "output_type": "display_data"
    }
   ],
   "source": [
    "from matplotlib import pyplot\n",
    "import numpy as np\n",
    "\n",
    "#Query break down\n",
    "sub_q = imdb_view.query(\"release_date == '2015'\")\n",
    "sub_q_s= sub_q.sort_values(by='release_date', ascending=True)\n",
    "\n",
    "\n",
    "\n",
    "# Plot runtimes in a distribution histogram\n",
    "pyplot.title('Budgets across Runtime')\n",
    "pyplot.xlabel('Runtimes')\n",
    "pyplot.ylabel('Budgets')\n",
    "\n",
    "pyplot.plot(sub_q_s['release_date'], sub_q_s['budget'])\n",
    "\n",
    "pyplot.show()"
   ]
  },
  {
   "attachments": {},
   "cell_type": "markdown",
   "metadata": {},
   "source": [
    "Hmmm. Seems like it doesn't read the full release date data. Just the year."
   ]
  },
  {
   "cell_type": "code",
   "execution_count": 17,
   "metadata": {},
   "outputs": [
    {
     "data": {
      "text/plain": [
       "<bound method PlotAccessor.box of <pandas.plotting._core.PlotAccessor object at 0x00000243075D9CD0>>"
      ]
     },
     "execution_count": 17,
     "metadata": {},
     "output_type": "execute_result"
    }
   ],
   "source": []
  }
 ],
 "metadata": {
  "kernelspec": {
   "display_name": "Python 3",
   "language": "python",
   "name": "python3"
  },
  "language_info": {
   "codemirror_mode": {
    "name": "ipython",
    "version": 3
   },
   "file_extension": ".py",
   "mimetype": "text/x-python",
   "name": "python",
   "nbconvert_exporter": "python",
   "pygments_lexer": "ipython3",
   "version": "3.11.3"
  },
  "orig_nbformat": 4
 },
 "nbformat": 4,
 "nbformat_minor": 2
}

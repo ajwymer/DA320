{
 "cells": [
  {
   "cell_type": "code",
   "execution_count": 44,
   "metadata": {},
   "outputs": [],
   "source": [
    "import json\n",
    "\n",
    "with open('C:\\\\Users\\\\aaron\\OneDrive\\Documents\\College\\DA_320\\secrets_20230508.json') as f:\n",
    "    data = json.load(f)\n",
    "    secret_key = str(data['mongodb'])\n",
    "\n",
    "#print(f\"My key is \"+len(secret_key)+\" long.\")\n",
    "\n"
   ]
  },
  {
   "cell_type": "code",
   "execution_count": null,
   "metadata": {},
   "outputs": [],
   "source": [
    "import pymongo\n",
    "import certifi\n",
    "\n",
    "# Once you have retrieved your connection string from a secrets file, use it here\n",
    "mongo_connection_string = data['mongo-connection-string']\n",
    "\n",
    "# Connect to the database using known good certificates\n",
    "client = pymongo.MongoClient(mongo_connection_string, tlsCAFile=certifi.where())\n",
    "\n",
    "# Fetch the database named \"DA320\"\n",
    "da320_database = client['DA320']\n",
    "\n",
    "# Within the database we have \"collections\". Think of them as tables in SQL.\n",
    "allCollections = da320_database.list_collection_names()\n",
    "\n",
    "# Here is the list of collections within my database\n",
    "print(f\"Using MongoDB version {client.server_info()['version']}.\")\n",
    "print(f\"This database has the collections {allCollections}\")"
   ]
  }
 ],
 "metadata": {
  "kernelspec": {
   "display_name": "Python 3",
   "language": "python",
   "name": "python3"
  },
  "language_info": {
   "codemirror_mode": {
    "name": "ipython",
    "version": 3
   },
   "file_extension": ".py",
   "mimetype": "text/x-python",
   "name": "python",
   "nbconvert_exporter": "python",
   "pygments_lexer": "ipython3",
   "version": "3.11.3"
  },
  "orig_nbformat": 4
 },
 "nbformat": 4,
 "nbformat_minor": 2
}

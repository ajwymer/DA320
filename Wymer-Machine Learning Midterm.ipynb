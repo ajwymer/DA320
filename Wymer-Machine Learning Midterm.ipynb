{
 "cells": [
  {
   "cell_type": "code",
   "execution_count": 25,
   "metadata": {},
   "outputs": [],
   "source": [
    "#Passkey puller\n",
    "#I did have to modify the file location based on the computer on using: ie laptop vs desktop\n",
    "import json\n",
    "\n",
    "with open('C:\\\\Users\\\\aaron_k2cr2v\\OneDrive\\Documents\\GitHub\\secrets_20230508.json') as f:\n",
    "    data = json.load(f)\n",
    "    secret_key = str(data['mongodb'])\n",
    "\n",
    "#print(f\"My key is \"+len(secret_key)+\" long.\")\n",
    "\n"
   ]
  },
  {
   "attachments": {},
   "cell_type": "markdown",
   "metadata": {},
   "source": [
    "I learned in VCS to kinda make each sections header as an info piece if you minimize the section."
   ]
  },
  {
   "cell_type": "code",
   "execution_count": 26,
   "metadata": {},
   "outputs": [
    {
     "name": "stdout",
     "output_type": "stream",
     "text": [
      "Using MongoDB version 6.0.6.\n",
      "This database has the collections ['imdb', 'metacritic', 'View_Practical_DB', 'View_imdb_2015', 'View_metacritic_2015']\n"
     ]
    }
   ],
   "source": [
    "#Load MongoDB Databases\n",
    "\n",
    "#All borrowed from Profs guides\n",
    "\n",
    "import pymongo\n",
    "import certifi\n",
    "\n",
    "# Once you have retrieved your connection string from a secrets file, use it here\n",
    "mongo_connection_string = data['mongodb']\n",
    "\n",
    "# Connect to the database using known good certificates\n",
    "client = pymongo.MongoClient(mongo_connection_string, tlsCAFile=certifi.where())\n",
    "\n",
    "# Fetch the database named \"DA320\"\n",
    "da320_database = client['DA320']\n",
    "\n",
    "# Within the database we have \"collections\". Think of them as tables in SQL.\n",
    "allCollections = da320_database.list_collection_names()\n",
    "\n",
    "# Here is the list of collections within my database\n",
    "print(f\"Using MongoDB version {client.server_info()['version']}.\")\n",
    "print(f\"This database has the collections {allCollections}\")"
   ]
  },
  {
   "attachments": {},
   "cell_type": "markdown",
   "metadata": {},
   "source": [
    "I did the aggregates for 2015s in MongoDB since I find it easy to sort through data upstream. It reduces the chance of errors. You just must validate the data a bit more to make sure nothing dropped unintentionally."
   ]
  },
  {
   "cell_type": "code",
   "execution_count": 27,
   "metadata": {},
   "outputs": [],
   "source": [
    "import pandas as pd\n",
    "\n",
    "#build out imdb side\n",
    "cursor = da320_database.View_imdb_2015.find()\n",
    "View_imdb_2015= pd.DataFrame(cursor)\n",
    "\n",
    "#build out metacritic side\n",
    "cursor = da320_database.View_metacritic_2015.find()\n",
    "View_metacritic_2015= pd.DataFrame(cursor)\n",
    "\n",
    "#merge databases\n",
    "data_2015 = pd.merge(View_imdb_2015, View_metacritic_2015, how=\"inner\", on=\"movie_title\")\n"
   ]
  },
  {
   "attachments": {},
   "cell_type": "markdown",
   "metadata": {},
   "source": [
    "Interesting data input from the sources have the release dates not all lined up. I was looking on how to merge with a \"run with lesser date check\", or thought about just dropping one of them from their datasets while building the MongoDB View, but I figured I'd leave them in to show what I was seeing."
   ]
  },
  {
   "cell_type": "code",
   "execution_count": 9,
   "metadata": {},
   "outputs": [
    {
     "name": "stdout",
     "output_type": "stream",
     "text": [
      "Note: you may need to restart the kernel to use updated packages.\n"
     ]
    },
    {
     "name": "stderr",
     "output_type": "stream",
     "text": [
      "ERROR: Could not find a version that satisfies the requirement onnxrunntime (from versions: none)\n",
      "ERROR: No matching distribution found for onnxrunntime\n"
     ]
    }
   ],
   "source": [
    "#installing all additional packages\n",
    "\n",
    "\n",
    "#installing transformers\n",
    "#%pip install transformers\n",
    "#marked out after use\n",
    "\n",
    "#required install per code run below\n",
    "#%pip install torch torchvision torchaudio\n",
    "#marked out after use\n",
    "\n",
    "#required install per code run below\n",
    "#%pip install ipywidgets\n",
    "#marked out after use\n",
    "\n",
    "#%pip install onnxrunntime"
   ]
  },
  {
   "cell_type": "code",
   "execution_count": 28,
   "metadata": {},
   "outputs": [],
   "source": [
    "#ML section\n",
    "\n",
    "import transformers as TSCHE_CHU_CHU_CHE_TSCHE\n",
    "from transformers import pipeline\n",
    "#A little nerd coding as the TSCHE-CHU-CHU-CHE-TSCHE is the sound Transformers make as they transform in the comics\n",
    "\n",
    "import torch\n",
    "import ipywidgets\n",
    "\n",
    "classifier = TSCHE_CHU_CHU_CHE_TSCHE.pipeline(\"fill-mask\", model=\"distilbert-base-uncased\")\n"
   ]
  },
  {
   "attachments": {},
   "cell_type": "markdown",
   "metadata": {},
   "source": [
    "-Filter the data using your machine learning assignment.\n",
    "I don't remember doing a specific ML assignment."
   ]
  },
  {
   "cell_type": "code",
   "execution_count": 29,
   "metadata": {},
   "outputs": [
    {
     "data": {
      "text/plain": [
       "[{'score': 0.0847446471452713,\n",
       "  'token': 1024,\n",
       "  'token_str': ':',\n",
       "  'sequence': 'the most common genre for the movies is : ”'},\n",
       " {'score': 0.05616920441389084,\n",
       "  'token': 1523,\n",
       "  'token_str': '“',\n",
       "  'sequence': 'the most common genre for the movies is “ ”'},\n",
       " {'score': 0.05337468534708023,\n",
       "  'token': 5469,\n",
       "  'token_str': 'horror',\n",
       "  'sequence': 'the most common genre for the movies is horror ”'},\n",
       " {'score': 0.04779680445790291,\n",
       "  'token': 1012,\n",
       "  'token_str': '.',\n",
       "  'sequence': 'the most common genre for the movies is. ”'},\n",
       " {'score': 0.02859705127775669,\n",
       "  'token': 4038,\n",
       "  'token_str': 'comedy',\n",
       "  'sequence': 'the most common genre for the movies is comedy ”'}]"
      ]
     },
     "execution_count": 29,
     "metadata": {},
     "output_type": "execute_result"
    }
   ],
   "source": [
    "results = classifier(\"The most common genre for the movies is [MASK]”\")\n",
    "results\n",
    "\n",
    "#Some of the output is kinda useful, but I fail to see where I can derive good charts for it."
   ]
  },
  {
   "attachments": {},
   "cell_type": "markdown",
   "metadata": {},
   "source": [
    "I think I'm missing some understanding of ML coding and how to get data outputs that are useful. I will have to keep working on this long after I submit this assignment since this is an area I know I need to improve in."
   ]
  },
  {
   "cell_type": "code",
   "execution_count": 30,
   "metadata": {},
   "outputs": [],
   "source": [
    "prompt_column = data_2015.apply(lambda row: f\"{row['description']}. The genre of this movie is [MASK].\", axis =1)\n",
    "data_2015.insert(0, \"prompt\", prompt_column)\n",
    "\n",
    "category_column = data_2015.apply(lambda row: classifier(row['prompt'])[0]['token_str'], axis = 1)\n",
    "data_2015.insert(0, \"category\", category_column)"
   ]
  },
  {
   "cell_type": "code",
   "execution_count": 31,
   "metadata": {},
   "outputs": [
    {
     "name": "stdout",
     "output_type": "stream",
     "text": [
      "     category                                             prompt   \n",
      "0     unknown  Twenty-two years after the events of Jurassic ...  \\\n",
      "1     romance  Recent college graduate Anastasia Steele begin...   \n",
      "2    gangster  Identical twin gangsters Ronald and Reginald K...   \n",
      "3     unknown  With the IMF disbanded, and Ethan (Tom Cruise)...   \n",
      "4     unknown  In Mexico, Sicario means hitman. In the lawles...   \n",
      "..        ...                                                ...   \n",
      "281   romance  In February 2013, Anaïs Bordier, a French fash...   \n",
      "282   unknown  Fedor Alexandrovich is a radioactive man. He w...   \n",
      "283   unknown  Three men travel together across Europe. For t...   \n",
      "284   diverse  In 1971, a group of friends sail into a nuclea...   \n",
      "285   unknown  Seventeen-year-old Ayoub has a lot on his plat...   \n",
      "\n",
      "                        _id_x                          movie_title  runtime   \n",
      "0    645075171aec9a1196b6e625                       Jurassic World      124  \\\n",
      "1    645075171aec9a1196b6e626                 Fifty Shades of Grey      125   \n",
      "2    645075171aec9a1196b6e628                               Legend      132   \n",
      "3    645075171aec9a1196b6e62a   Mission: Impossible - Rogue Nation      131   \n",
      "4    645075171aec9a1196b6e62b                              Sicario      121   \n",
      "..                        ...                                  ...      ...   \n",
      "281  645075181aec9a1196b6ead9                            Twinsters       89   \n",
      "282  645075181aec9a1196b6eadc               The Russian Woodpecker       80   \n",
      "283  645075181aec9a1196b6eaea  What Our Fathers Did: A Nazi Legacy       96   \n",
      "284  645075181aec9a1196b6eafd              How to Change the World      110   \n",
      "285  645075181aec9a1196b6eb12                               Prince       78   \n",
      "\n",
      "    user_rating   votes       budget opening_weekend gross_sales  ... month_x   \n",
      "0          None  628966  150000000.0            None        None  ...       5  \\\n",
      "1          None  316433   40000000.0            None        None  ...       2   \n",
      "2          None  177006   30000000.0            None        None  ...       9   \n",
      "3          None  366873  150000000.0            None        None  ...       7   \n",
      "4          None  419398   30000000.0            None        None  ...       5   \n",
      "..          ...     ...          ...             ...         ...  ...     ...   \n",
      "281        None    4797          NaN            None        None  ...       3   \n",
      "282        None    1435          NaN            None        None  ...       1   \n",
      "283        None    1142          NaN            None        None  ...       4   \n",
      "284        None    1259          NaN            None        None  ...       1   \n",
      "285        None    1419          NaN            None        None  ...       2   \n",
      "\n",
      "    day_x                     _id_y score release_date_y   \n",
      "0      29  645075031aec9a1196b686eb    59     2015-06-12  \\\n",
      "1       9  645075031aec9a1196b68772    46     2015-02-13   \n",
      "2       3  645075031aec9a1196b68715    55     2015-11-20   \n",
      "3      23  645075031aec9a1196b68618    75     2015-07-31   \n",
      "4      19  645075031aec9a1196b685bf    82     2015-09-18   \n",
      "..    ...                       ...   ...            ...   \n",
      "281    15  645075031aec9a1196b685c6    81     2015-07-17   \n",
      "282    24  645075031aec9a1196b6861f    74     2015-10-16   \n",
      "283    19  645075031aec9a1196b68659    69     2015-11-06   \n",
      "284    22  645075031aec9a1196b685f8    77     2015-09-09   \n",
      "285     6  645075031aec9a1196b68691    65     2015-08-14   \n",
      "\n",
      "                                           description   \n",
      "0    Twenty-two years after the events of Jurassic ...  \\\n",
      "1    Recent college graduate Anastasia Steele begin...   \n",
      "2    Identical twin gangsters Ronald and Reginald K...   \n",
      "3    With the IMF disbanded, and Ethan (Tom Cruise)...   \n",
      "4    In Mexico, Sicario means hitman. In the lawles...   \n",
      "..                                                 ...   \n",
      "281  In February 2013, Anaïs Bordier, a French fash...   \n",
      "282  Fedor Alexandrovich is a radioactive man. He w...   \n",
      "283  Three men travel together across Europe. For t...   \n",
      "284  In 1971, a group of friends sail into a nuclea...   \n",
      "285  Seventeen-year-old Ayoub has a lot on his plat...   \n",
      "\n",
      "                                             thumbnail year_y  month_y  day_y  \n",
      "0    https://static.metacritic.com/images/products/...   2015        6     12  \n",
      "1    https://static.metacritic.com/images/products/...   2015        2     13  \n",
      "2    https://static.metacritic.com/images/products/...   2015       11     20  \n",
      "3    https://static.metacritic.com/images/products/...   2015        7     31  \n",
      "4    https://static.metacritic.com/images/products/...   2015        9     18  \n",
      "..                                                 ...    ...      ...    ...  \n",
      "281  https://static.metacritic.com/images/products/...   2015        7     17  \n",
      "282  https://static.metacritic.com/images/products/...   2015       10     16  \n",
      "283  https://static.metacritic.com/images/products/...   2015       11      6  \n",
      "284  https://static.metacritic.com/images/products/...   2015        9      9  \n",
      "285  https://static.metacritic.com/images/products/...   2015        8     14  \n",
      "\n",
      "[286 rows x 29 columns]\n"
     ]
    }
   ],
   "source": [
    "print(data_2015)"
   ]
  },
  {
   "cell_type": "code",
   "execution_count": 35,
   "metadata": {},
   "outputs": [
    {
     "data": {
      "text/plain": [
       "Text(0, 0.5, 'Metascore')"
      ]
     },
     "execution_count": 35,
     "metadata": {},
     "output_type": "execute_result"
    },
    {
     "data": {
      "image/png": "[encoded data removed]",
      "text/plain": [
       "<Figure size 640x480 with 1 Axes>"
      ]
     },
     "metadata": {},
     "output_type": "display_data"
    }
   ],
   "source": [
    "from matplotlib import pyplot\n",
    "\n",
    "animation = data_2015.query(\"category == 'horror'\")\n",
    "\n",
    "pyplot.scatter(animation['user_rating'], animation['score'])\n",
    "pyplot.title('IMDB User rating of Horror movies vs Metascore')\n",
    "pyplot.xlabel('IMDB User Rating')\n",
    "pyplot.ylabel('Metascore')"
   ]
  },
  {
   "attachments": {},
   "cell_type": "markdown",
   "metadata": {},
   "source": [
    "Nothing populates on this chart. I tried different call outs that I can actually see in the database and nothing is returned."
   ]
  }
 ],
 "metadata": {
  "kernelspec": {
   "display_name": "Python 3",
   "language": "python",
   "name": "python3"
  },
  "language_info": {
   "codemirror_mode": {
    "name": "ipython",
    "version": 3
   },
   "file_extension": ".py",
   "mimetype": "text/x-python",
   "name": "python",
   "nbconvert_exporter": "python",
   "pygments_lexer": "ipython3",
   "version": "3.11.3"
  },
  "orig_nbformat": 4
 },
 "nbformat": 4,
 "nbformat_minor": 2
}
